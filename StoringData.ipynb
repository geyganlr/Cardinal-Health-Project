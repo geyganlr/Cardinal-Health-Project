{
 "cells": [
  {
   "cell_type": "code",
   "execution_count": 32,
   "metadata": {},
   "outputs": [],
   "source": [
    "import psycopg2\n",
    "\n",
    "# Connect to the PostgreSQL database\n",
    "conn = psycopg2.connect(\n",
    "        host=\"db1.cl5uuoi3dsos.us-east-2.rds.amazonaws.com\",\n",
    "        database=\"cads\",\n",
    "        user=\"postgres\",\n",
    "        password=\"Cads=post1\"\n",
    "    )\n",
    "def importData (textFile, tableName):\n",
    "    with open(textFile, \"r\") as f:\n",
    "        # Skip the first line of the file\n",
    "        next(f)\n",
    "\n",
    "        # Create a cursor object\n",
    "        cur = conn.cursor()\n",
    "\n",
    "        try:\n",
    "            cur.execute(\"TRUNCATE \" + tableName)\n",
    "        except:\n",
    "            cur.execute(\"rollback\")\n",
    "            cur.execute(\"TRUNCATE \" + tableName)\n",
    "\n",
    "        # Use the COPY function to load data from the text file\n",
    "        cur.copy_from(f, tableName, sep=\"|\", null=\" \")\n",
    "\n",
    "        # Commit the changes to the database\n",
    "        conn.commit()\n",
    "\n",
    "        # Close the cursor and connection\n",
    "        cur.close()\n",
    "\n",
    "        print(\"Table \" + tableName + \" imported\")\n",
    "\n",
    "def importDataNetwork (textFile, tableName):\n",
    "    with open(textFile, \"r\") as f:\n",
    "        # Skip the first line of the file\n",
    "        next(f)\n",
    "\n",
    "        # Create a cursor object\n",
    "        cur = conn.cursor()\n",
    "\n",
    "        # Use the COPY function to load data from the text file\n",
    "        cur.copy_from(f, tableName, sep=\"|\", null=\" \")\n",
    "\n",
    "        # Commit the changes to the database\n",
    "        conn.commit()\n",
    "\n",
    "        # Close the cursor and connection\n",
    "        cur.close()\n",
    "\n",
    "        print(\"Table \" + tableName + \" imported\")"
   ]
  },
  {
   "cell_type": "code",
   "execution_count": 37,
   "metadata": {},
   "outputs": [],
   "source": [
    "import csv\n",
    "import tempfile\n",
    "\n",
    "\n",
    "def massImport(month, num_network_part):\n",
    "    \n",
    "    importData(\"plan information  \" + month + \".txt\", \"plan_information\")\n",
    "    importData(\"senior savings model file \" + month + \".txt\", \"senior_savings_model\")\n",
    "    importData(\"basic drugs formulary file  \" + month + \".txt\", \"basic_drug_formulary\")\n",
    "    importData(\"excluded drugs formulary file  \" + month + \".txt\", \"excluded_drugs_formulary\")\n",
    "    \n",
    "    importData(\"partial gap coverage file  \" + month + \".txt\", \"partial_gap_coverage\")\n",
    "    importData(\"Indication Based Coverage Formulary File  \" + month + \".txt\", \"indication_based_coverage_formulary\")\n",
    "    importData(\"geographic locator file \" + month + \".txt\", \"geographic_locator\")\n",
    "    importData(\"pharmacy networks file  \" + month + \" part 1.txt\", \"pharmacy_networks\")\n",
    "    for i in range(2, num_network_part):\n",
    "        importData(\"pharmacy networks file  \" + month + \" part \" + str(i) + \".txt\", \"pharmacy_networks\")\n",
    "    # Create a cursor object\n",
    "    cur = conn.cursor()\n",
    "\n",
    "    try:\n",
    "        cur.execute(\"TRUNCATE beneficiary_cost\")\n",
    "    except:\n",
    "        cur.execute(\"rollback\")\n",
    "        cur.execute(\"TRUNCATE beneficiary_cost\")\n",
    "    with tempfile.NamedTemporaryFile(mode='w+', newline='', delete=False) as temp_file:\n",
    "        with open('beneficiary cost file  \" + month + \".txt', 'r') as f:\n",
    "            f.readline()\n",
    "            for line in f:\n",
    "            # Replace empty strings and asterisks with null values\n",
    "                line = line.replace('*','').strip()\n",
    "                modified_line = line.replace('**','').strip()\n",
    "                temp_file.write(modified_line + '\\n')\n",
    "        temp_file.flush()\n",
    "    # print(temp_file)\n",
    "        # Use the COPY function to load data from the text file\n",
    "\n",
    "        with open(temp_file.name, 'r') as g:\n",
    "            next(g)\n",
    "            cur.copy_from(g, \"beneficiary_cost\", sep=\"|\", null= \"\")\n",
    "\n",
    "    # Commit the changes to the database\n",
    "    conn.commit()\n",
    "\n",
    "    # Close the cursor and connection\n",
    "    cur.close()\n",
    "\n",
    "    print(\"Table beneficiary_cost imported\")\n",
    "    # close connection\n",
    "    conn.close()"
   ]
  },
  {
   "cell_type": "code",
   "execution_count": 38,
   "metadata": {},
   "outputs": [
    {
     "name": "stdout",
     "output_type": "stream",
     "text": [
      "Table plan_information imported\n",
      "Table senior_savings_model imported\n",
      "Table basic_drug_formulary imported\n",
      "Table excluded_drugs_formulary imported\n",
      "Table partial_gap_coverage imported\n",
      "Table indication_based_coverage_formulary imported\n",
      "Table geographic_locator imported\n",
      "Table pharmacy_networks imported\n",
      "Table pharmacy_networks imported\n"
     ]
    }
   ],
   "source": [
    "\n",
    "massImport(\"20220831\", 6)"
   ]
  }
 ],
 "metadata": {
  "kernelspec": {
   "display_name": "Python 3",
   "language": "python",
   "name": "python3"
  },
  "language_info": {
   "codemirror_mode": {
    "name": "ipython",
    "version": 3
   },
   "file_extension": ".py",
   "mimetype": "text/x-python",
   "name": "python",
   "nbconvert_exporter": "python",
   "pygments_lexer": "ipython3",
   "version": "3.11.2"
  },
  "orig_nbformat": 4,
  "vscode": {
   "interpreter": {
    "hash": "c261aea317cc0286b3b3261fbba9abdec21eaa57589985bb7a274bf54d6cc0a7"
   }
  }
 },
 "nbformat": 4,
 "nbformat_minor": 2
}
