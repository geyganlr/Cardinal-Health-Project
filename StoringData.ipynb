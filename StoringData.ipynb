{
 "cells": [
  {
   "cell_type": "code",
   "execution_count": 32,
   "metadata": {},
   "outputs": [],
   "source": [
    "import psycopg2\n",
    "\n",
    "# Connect to the PostgreSQL database\n",
    "conn = psycopg2.connect(\n",
    "        host=\"db1.cl5uuoi3dsos.us-east-2.rds.amazonaws.com\",\n",
    "        database=\"cads\",\n",
    "        user=\"postgres\",\n",
    "        password=\"Cads=post1\"\n",
    "    )\n",
    "def importData (textFile, tableName):\n",
    "    with open(textFile, \"r\") as f:\n",
    "        # Skip the first line of the file\n",
    "        next(f)\n",
    "\n",
    "        # Create a cursor object\n",
    "        cur = conn.cursor()\n",
    "\n",
    "        try:\n",
    "            cur.execute(\"TRUNCATE \" + tableName)\n",
    "        except:\n",
    "            cur.execute(\"rollback\")\n",
    "            cur.execute(\"TRUNCATE \" + tableName)\n",
    "\n",
    "        # Use the COPY function to load data from the text file\n",
    "        cur.copy_from(f, tableName, sep=\"|\", null=\" \")\n",
    "\n",
    "        # Commit the changes to the database\n",
    "        conn.commit()\n",
    "\n",
    "        # Close the cursor and connection\n",
    "        cur.close()\n",
    "\n",
    "        print(\"Table \" + tableName + \" imported\")\n",
    "\n",
    "def importDataNetwork (textFile, tableName):\n",
    "    with open(textFile, \"r\") as f:\n",
    "        # Skip the first line of the file\n",
    "        next(f)\n",
    "\n",
    "        # Create a cursor object\n",
    "        cur = conn.cursor()\n",
    "\n",
    "        # Use the COPY function to load data from the text file\n",
    "        cur.copy_from(f, tableName, sep=\"|\", null=\" \")\n",
    "\n",
    "        # Commit the changes to the database\n",
    "        conn.commit()\n",
    "\n",
    "        # Close the cursor and connection\n",
    "        cur.close()\n",
    "\n",
    "        print(\"Table \" + tableName + \" imported\")"
   ]
  },
  {
   "cell_type": "code",
   "execution_count": 37,
   "metadata": {},
   "outputs": [],
   "source": [
    "import csv\n",
    "import tempfile\n",
    "\n",
    "\n",
    "def massImport(month, num_network_part):\n",
    "    \n",
    "    importData(\"plan information  \" + month + \".txt\", \"plan_information\")\n",
    "    importData(\"senior savings model file \" + month + \".txt\", \"senior_savings_model\")\n",
    "    importData(\"basic drugs formulary file  \" + month + \".txt\", \"basic_drug_formulary\")\n",
    "    importData(\"excluded drugs formulary file  \" + month + \".txt\", \"excluded_drugs_formulary\")\n",
    "    \n",
    "    importData(\"partial gap coverage file  \" + month + \".txt\", \"partial_gap_coverage\")\n",
    "    importData(\"Indication Based Coverage Formulary File  \" + month + \".txt\", \"indication_based_coverage_formulary\")\n",
    "    importData(\"geographic locator file \" + month + \".txt\", \"geographic_locator\")\n",
    "    importData(\"pharmacy networks file  \" + month + \" part 1.txt\", \"pharmacy_networks\")\n",
    "    for i in range(2, num_network_part):\n",
    "        importData(\"pharmacy networks file  \" + month + \" part \" + str(i) + \".txt\", \"pharmacy_networks\")\n",
    "    # Create a cursor object\n",
    "    cur = conn.cursor()\n",
    "\n",
    "    try:\n",
    "        cur.execute(\"TRUNCATE beneficiary_cost\")\n",
    "    except:\n",
    "        cur.execute(\"rollback\")\n",
    "        cur.execute(\"TRUNCATE beneficiary_cost\")\n",
    "    with tempfile.NamedTemporaryFile(mode='w+', newline='', delete=False) as temp_file:\n",
    "        with open('beneficiary cost file  ' + month + '.txt', 'r') as f:\n",
    "            f.readline()\n",
    "            for line in f:\n",
    "            # Replace empty strings and asterisks with null values\n",
    "                line = line.replace('*','').strip()\n",
    "                modified_line = line.replace('**','').strip()\n",
    "                temp_file.write(modified_line + '\\n')\n",
    "        temp_file.flush()\n",
    "    # print(temp_file)\n",
    "        # Use the COPY function to load data from the text file\n",
    "\n",
    "        with open(temp_file.name, 'r') as g:\n",
    "            next(g)\n",
    "            cur.copy_from(g, \"beneficiary_cost\", sep=\"|\", null= \"\")\n",
    "\n",
    "    # Commit the changes to the database\n",
    "    conn.commit()\n",
    "\n",
    "    # Close the cursor and connection\n",
    "    cur.close()\n",
    "\n",
    "    print(\"Table beneficiary_cost imported\")\n",
    "    # close connection\n",
    "    conn.close()"
   ]
  },
  {
   "cell_type": "code",
   "execution_count": 38,
   "metadata": {},
   "outputs": [
    {
     "name": "stdout",
     "output_type": "stream",
     "text": [
      "Table plan_information imported\n",
      "Table senior_savings_model imported\n",
      "Table basic_drug_formulary imported\n",
      "Table excluded_drugs_formulary imported\n",
      "Table partial_gap_coverage imported\n",
      "Table indication_based_coverage_formulary imported\n",
      "Table geographic_locator imported\n",
      "Table pharmacy_networks imported\n",
      "Table pharmacy_networks imported\n",
      "Table pharmacy_networks imported\n",
      "Table pharmacy_networks imported\n",
      "Table pharmacy_networks imported\n"
     ]
    },
    {
     "ename": "OSError",
     "evalue": "[Errno 22] Invalid argument: 'beneficiary cost file  \" + month + \".txt'",
     "output_type": "error",
     "traceback": [
      "\u001b[1;31m---------------------------------------------------------------------------\u001b[0m",
      "\u001b[1;31mOSError\u001b[0m                                   Traceback (most recent call last)",
      "Cell \u001b[1;32mIn[38], line 1\u001b[0m\n\u001b[1;32m----> 1\u001b[0m massImport(\u001b[39m\"\u001b[39;49m\u001b[39m20220831\u001b[39;49m\u001b[39m\"\u001b[39;49m, \u001b[39m6\u001b[39;49m)\n",
      "Cell \u001b[1;32mIn[37], line 27\u001b[0m, in \u001b[0;36mmassImport\u001b[1;34m(month, num_network_part)\u001b[0m\n\u001b[0;32m     25\u001b[0m     cur\u001b[39m.\u001b[39mexecute(\u001b[39m\"\u001b[39m\u001b[39mTRUNCATE beneficiary_cost\u001b[39m\u001b[39m\"\u001b[39m)\n\u001b[0;32m     26\u001b[0m \u001b[39mwith\u001b[39;00m tempfile\u001b[39m.\u001b[39mNamedTemporaryFile(mode\u001b[39m=\u001b[39m\u001b[39m'\u001b[39m\u001b[39mw+\u001b[39m\u001b[39m'\u001b[39m, newline\u001b[39m=\u001b[39m\u001b[39m'\u001b[39m\u001b[39m'\u001b[39m, delete\u001b[39m=\u001b[39m\u001b[39mFalse\u001b[39;00m) \u001b[39mas\u001b[39;00m temp_file:\n\u001b[1;32m---> 27\u001b[0m     \u001b[39mwith\u001b[39;00m \u001b[39mopen\u001b[39;49m(\u001b[39m'\u001b[39;49m\u001b[39mbeneficiary cost file  \u001b[39;49m\u001b[39m\"\u001b[39;49m\u001b[39m + month + \u001b[39;49m\u001b[39m\"\u001b[39;49m\u001b[39m.txt\u001b[39;49m\u001b[39m'\u001b[39;49m, \u001b[39m'\u001b[39;49m\u001b[39mr\u001b[39;49m\u001b[39m'\u001b[39;49m) \u001b[39mas\u001b[39;00m f:\n\u001b[0;32m     28\u001b[0m         f\u001b[39m.\u001b[39mreadline()\n\u001b[0;32m     29\u001b[0m         \u001b[39mfor\u001b[39;00m line \u001b[39min\u001b[39;00m f:\n\u001b[0;32m     30\u001b[0m         \u001b[39m# Replace empty strings and asterisks with null values\u001b[39;00m\n",
      "File \u001b[1;32m~\\AppData\\Roaming\\Python\\Python311\\site-packages\\IPython\\core\\interactiveshell.py:282\u001b[0m, in \u001b[0;36m_modified_open\u001b[1;34m(file, *args, **kwargs)\u001b[0m\n\u001b[0;32m    275\u001b[0m \u001b[39mif\u001b[39;00m file \u001b[39min\u001b[39;00m {\u001b[39m0\u001b[39m, \u001b[39m1\u001b[39m, \u001b[39m2\u001b[39m}:\n\u001b[0;32m    276\u001b[0m     \u001b[39mraise\u001b[39;00m \u001b[39mValueError\u001b[39;00m(\n\u001b[0;32m    277\u001b[0m         \u001b[39mf\u001b[39m\u001b[39m\"\u001b[39m\u001b[39mIPython won\u001b[39m\u001b[39m'\u001b[39m\u001b[39mt let you open fd=\u001b[39m\u001b[39m{\u001b[39;00mfile\u001b[39m}\u001b[39;00m\u001b[39m by default \u001b[39m\u001b[39m\"\u001b[39m\n\u001b[0;32m    278\u001b[0m         \u001b[39m\"\u001b[39m\u001b[39mas it is likely to crash IPython. If you know what you are doing, \u001b[39m\u001b[39m\"\u001b[39m\n\u001b[0;32m    279\u001b[0m         \u001b[39m\"\u001b[39m\u001b[39myou can use builtins\u001b[39m\u001b[39m'\u001b[39m\u001b[39m open.\u001b[39m\u001b[39m\"\u001b[39m\n\u001b[0;32m    280\u001b[0m     )\n\u001b[1;32m--> 282\u001b[0m \u001b[39mreturn\u001b[39;00m io_open(file, \u001b[39m*\u001b[39;49margs, \u001b[39m*\u001b[39;49m\u001b[39m*\u001b[39;49mkwargs)\n",
      "\u001b[1;31mOSError\u001b[0m: [Errno 22] Invalid argument: 'beneficiary cost file  \" + month + \".txt'"
     ]
    }
   ],
   "source": [
    "\n",
    "massImport(\"20220831\", 6)"
   ]
  }
 ],
 "metadata": {
  "kernelspec": {
   "display_name": "Python 3",
   "language": "python",
   "name": "python3"
  },
  "language_info": {
   "codemirror_mode": {
    "name": "ipython",
    "version": 3
   },
   "file_extension": ".py",
   "mimetype": "text/x-python",
   "name": "python",
   "nbconvert_exporter": "python",
   "pygments_lexer": "ipython3",
   "version": "3.11.2"
  },
  "orig_nbformat": 4,
  "vscode": {
   "interpreter": {
    "hash": "c261aea317cc0286b3b3261fbba9abdec21eaa57589985bb7a274bf54d6cc0a7"
   }
  }
 },
 "nbformat": 4,
 "nbformat_minor": 2
}
