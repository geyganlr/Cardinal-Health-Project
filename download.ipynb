{
 "cells": [
  {
   "cell_type": "code",
   "execution_count": 1,
   "metadata": {},
   "outputs": [
    {
     "ename": "ModuleNotFoundError",
     "evalue": "No module named 'rarfile'",
     "output_type": "error",
     "traceback": [
      "\u001b[1;31m---------------------------------------------------------------------------\u001b[0m",
      "\u001b[1;31mModuleNotFoundError\u001b[0m                       Traceback (most recent call last)",
      "\u001b[1;32mc:\\Users\\bachq\\OneDrive\\Documents\\Cardinal Health\\testing\\try4.ipynb Cell 1\u001b[0m in \u001b[0;36m<cell line: 1>\u001b[1;34m()\u001b[0m\n\u001b[1;32m----> <a href='vscode-notebook-cell:/c%3A/Users/bachq/OneDrive/Documents/Cardinal%20Health/testing/try4.ipynb#W1sZmlsZQ%3D%3D?line=0'>1</a>\u001b[0m \u001b[39mimport\u001b[39;00m \u001b[39mrarfile\u001b[39;00m\n\u001b[0;32m      <a href='vscode-notebook-cell:/c%3A/Users/bachq/OneDrive/Documents/Cardinal%20Health/testing/try4.ipynb#W1sZmlsZQ%3D%3D?line=1'>2</a>\u001b[0m zip_file_path \u001b[39m=\u001b[39m \u001b[39m'\u001b[39m\u001b[39mdata.zip\u001b[39m\u001b[39m'\u001b[39m \u001b[39m# Replace with the path of your ZIP file\u001b[39;00m\n\u001b[0;32m      <a href='vscode-notebook-cell:/c%3A/Users/bachq/OneDrive/Documents/Cardinal%20Health/testing/try4.ipynb#W1sZmlsZQ%3D%3D?line=3'>4</a>\u001b[0m \u001b[39mwith\u001b[39;00m rarfile\u001b[39m.\u001b[39mRarFile(zip_file_path) \u001b[39mas\u001b[39;00m zip_ref:\n",
      "\u001b[1;31mModuleNotFoundError\u001b[0m: No module named 'rarfile'"
     ]
    }
   ],
   "source": [
    "import requests\n",
    "import zipfile\n",
    "\n",
    "url = 'https://download.cms.gov/Research-Statistics-Data-and-Systems/Downloadable-Public-Use-Files/Pharmacy-Puf/Downloads/2023_20221230.zip'  \n",
    "file_name = 'data.zip'  \n",
    "\n",
    "r = requests.get(url, stream=True)\n",
    "\n",
    "# Open file and write content in chunks\n",
    "with open(file_name, 'wb') as f:\n",
    "    for chunk in r.iter_content(chunk_size=1024):\n",
    "        if chunk:  # Filter out keep-alive new chunks\n",
    "            f.write(chunk)\n"
   ]
  }
 ],
 "metadata": {
  "kernelspec": {
   "display_name": "Python 3",
   "language": "python",
   "name": "python3"
  },
  "language_info": {
   "codemirror_mode": {
    "name": "ipython",
    "version": 3
   },
   "file_extension": ".py",
   "mimetype": "text/x-python",
   "name": "python",
   "nbconvert_exporter": "python",
   "pygments_lexer": "ipython3",
   "version": "3.9.13"
  },
  "orig_nbformat": 4,
  "vscode": {
   "interpreter": {
    "hash": "1d056e886b66fdf2ba7e1820d5ff80932c91267eb25845b0d1121807a90fc00f"
   }
  }
 },
 "nbformat": 4,
 "nbformat_minor": 2
}
